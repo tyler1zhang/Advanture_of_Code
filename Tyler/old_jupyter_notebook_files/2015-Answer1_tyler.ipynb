{
 "cells": [
  {
   "cell_type": "markdown",
   "metadata": {},
   "source": [
    "# Advanture of Code"
   ]
  },
  {
   "cell_type": "markdown",
   "metadata": {},
   "source": [
    "## Question 1"
   ]
  },
  {
   "cell_type": "markdown",
   "metadata": {},
   "source": [
    "### Part 1"
   ]
  },
  {
   "cell_type": "code",
   "execution_count": null,
   "metadata": {},
   "outputs": [],
   "source": [
    "# try to read the char from web, but failed, this will print \"HTTP ERROR 400\", this module could not read the link.\n",
    "\n",
    "from urllib.request import urlopen\n",
    "\n",
    "link = \"https://adventofcode.com/2015/day/1/input\"\n",
    "\n",
    "f = urlopen(link)\n",
    "floor_instruction = f.read()\n",
    "print (floor_instruction)"
   ]
  },
  {
   "cell_type": "code",
   "execution_count": 7,
   "metadata": {},
   "outputs": [
    {
     "name": "stdout",
     "output_type": "stream",
     "text": [
      "Collecting requests\n",
      "  Downloading requests-2.22.0-py2.py3-none-any.whl (57 kB)\n",
      "Collecting idna<2.9,>=2.5\n",
      "  Downloading idna-2.8-py2.py3-none-any.whl (58 kB)\n",
      "Collecting certifi>=2017.4.17\n",
      "  Downloading certifi-2019.11.28-py2.py3-none-any.whl (156 kB)\n",
      "Collecting chardet<3.1.0,>=3.0.2\n",
      "  Downloading chardet-3.0.4-py2.py3-none-any.whl (133 kB)\n",
      "Collecting urllib3!=1.25.0,!=1.25.1,<1.26,>=1.21.1\n",
      "  Downloading urllib3-1.25.8-py2.py3-none-any.whl (125 kB)\n",
      "Installing collected packages: idna, certifi, chardet, urllib3, requests\n",
      "Successfully installed certifi-2019.11.28 chardet-3.0.4 idna-2.8 requests-2.22.0 urllib3-1.25.8\n"
     ]
    }
   ],
   "source": [
    "!pip install requests #install module"
   ]
  },
  {
   "cell_type": "code",
   "execution_count": 11,
   "metadata": {},
   "outputs": [
    {
     "name": "stdout",
     "output_type": "stream",
     "text": [
      "Puzzle inputs differ by user.  Please log in to get your puzzle input.\n",
      "\n"
     ]
    }
   ],
   "source": [
    "import requests\n",
    "\n",
    "url = \"https://adventofcode.com/2015/day/1/input\"\n",
    "\n",
    "f = requests.get(url)\n",
    "print(f.text)"
   ]
  },
  {
   "cell_type": "code",
   "execution_count": 1,
   "metadata": {},
   "outputs": [
    {
     "name": "stdout",
     "output_type": "stream",
     "text": [
      "138\n"
     ]
    }
   ],
   "source": [
    "#Give up to download content by url. Save the file content in \"Q1.txt\"\n",
    "f = open('2015-Q1_tyler.txt', 'r')\n",
    "\n",
    "up_down = 0\n",
    "while 1:\n",
    "    char = f.read(1)\n",
    "    if not char: break\n",
    "    elif char == \"(\":\n",
    "        up_down += 1\n",
    "    elif char == \")\":\n",
    "        up_down -= 1\n",
    "\n",
    "print(up_down)        \n",
    "        \n",
    "f.close()"
   ]
  },
  {
   "cell_type": "markdown",
   "metadata": {},
   "source": [
    "### Part 2"
   ]
  },
  {
   "cell_type": "code",
   "execution_count": 3,
   "metadata": {},
   "outputs": [
    {
     "name": "stdout",
     "output_type": "stream",
     "text": [
      "1771\n"
     ]
    }
   ],
   "source": [
    "#give the position when he arrive basement first time\n",
    "\n",
    "f = open(\"2015-Q1_tyler.txt\", \"r\")\n",
    "\n",
    "up_down = 0\n",
    "i = 0\n",
    "while 1:\n",
    "    char = f.read(1)\n",
    "    if not char: break\n",
    "    elif char == \"(\":\n",
    "        up_down += 1\n",
    "    elif char == \")\":\n",
    "        up_down -= 1\n",
    "    \n",
    "    i += 1\n",
    "    if up_down == -1:\n",
    "        print(i)\n",
    "        break\n",
    "\n",
    "f.close()        "
   ]
  },
  {
   "cell_type": "code",
   "execution_count": null,
   "metadata": {},
   "outputs": [],
   "source": []
  }
 ],
 "metadata": {
  "kernelspec": {
   "display_name": "Python 3",
   "language": "python",
   "name": "python3"
  },
  "language_info": {
   "codemirror_mode": {
    "name": "ipython",
    "version": 3
   },
   "file_extension": ".py",
   "mimetype": "text/x-python",
   "name": "python",
   "nbconvert_exporter": "python",
   "pygments_lexer": "ipython3",
   "version": "3.7.4"
  }
 },
 "nbformat": 4,
 "nbformat_minor": 4
}
