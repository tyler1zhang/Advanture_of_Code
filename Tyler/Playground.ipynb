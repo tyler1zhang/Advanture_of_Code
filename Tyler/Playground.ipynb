{
 "cells": [
  {
   "cell_type": "markdown",
   "metadata": {},
   "source": [
    "# Answer 13"
   ]
  },
  {
   "cell_type": "code",
   "execution_count": 123,
   "metadata": {},
   "outputs": [],
   "source": [
    "# Output one list of [name1, num, name2], and one names list to store all names. \n",
    "with open('2015-Q13_tyler.txt') as f:\n",
    "    data_lst = []\n",
    "    names_lst = []\n",
    "    for line in f.readlines():\n",
    "        line_lst = line.split()\n",
    "        if line_lst[2] == 'gain':\n",
    "            data_lst.append([line_lst[0], int(line_lst[3]), line_lst[-1][:-1]])\n",
    "        else:\n",
    "            data_lst.append([line_lst[0], -int(line_lst[3]), line_lst[-1][:-1]])\n",
    "        names_lst.append(line_lst[0])\n",
    "    names_set = set(names_lst)\n",
    "f.close()"
   ]
  },
  {
   "cell_type": "code",
   "execution_count": 124,
   "metadata": {},
   "outputs": [
    {
     "data": {
      "text/plain": [
       "{'Alice', 'Bob', 'Carol', 'David', 'Eric', 'Frank', 'George', 'Mallory'}"
      ]
     },
     "execution_count": 124,
     "metadata": {},
     "output_type": "execute_result"
    }
   ],
   "source": [
    "names_set"
   ]
  },
  {
   "cell_type": "code",
   "execution_count": 10,
   "metadata": {},
   "outputs": [],
   "source": [
    "import itertools\n",
    "\n",
    "# List all permutation of names\n",
    "#p = [list(i) for i in list(itertools.permutations(names_lst))]\n",
    "p = list(itertools.permutations(names_lst))"
   ]
  },
  {
   "cell_type": "code",
   "execution_count": 32,
   "metadata": {},
   "outputs": [],
   "source": [
    "# Use tuple\n",
    "def start_cycle_tuple(t):\n",
    "    lst = list(t)\n",
    "    l1 = lst[1:]\n",
    "    l1.append(lst[0])\n",
    "    t1 = tuple(l1)\n",
    "    return t1"
   ]
  },
  {
   "cell_type": "code",
   "execution_count": 87,
   "metadata": {},
   "outputs": [],
   "source": [
    "def clean_sequence(permutations_list):\n",
    "    # Due to cycle table, every squence will be repeated by 2*len(s) times. ex: \"abc\" is same as \"bca\", \"cab\" and 3 reverse sequence. \n",
    "    all_scenarios_list = []\n",
    "    sequence_tuple_set = {''}\n",
    "    for line_tuple in permutations_list:\n",
    "        if line_tuple not in sequence_tuple_set:\n",
    "            all_scenarios_list.append(line_tuple)\n",
    "        temp_lst = list(line_tuple)\n",
    "        temp_lst.reverse()\n",
    "        temp_tuple = tuple(temp_lst)\n",
    "        temp_tuple_r = line_tuple\n",
    "        for i in range(len(line_tuple)):\n",
    "            sequence_tuple_set.add(temp_tuple_r)\n",
    "            sequence_tuple_set.add(temp_tuple)\n",
    "            temp_tuple_r = start_cycle_tuple(temp_tuple_r)\n",
    "            temp_tuple = start_cycle_tuple(temp_tuple)\n",
    "            \n",
    "    return all_scenarios_list"
   ]
  },
  {
   "cell_type": "code",
   "execution_count": 88,
   "metadata": {},
   "outputs": [],
   "source": [
    "# All scenarios for cycle table. \n",
    "all_scenarios = clean_sequence(p)"
   ]
  },
  {
   "cell_type": "code",
   "execution_count": 90,
   "metadata": {},
   "outputs": [
    {
     "data": {
      "text/plain": [
       "('Eric', 'Mallory', 'George', 'Frank', 'Alice', 'David', 'Carol', 'Bob')"
      ]
     },
     "execution_count": 90,
     "metadata": {},
     "output_type": "execute_result"
    }
   ],
   "source": [
    "all_scenarios[0]"
   ]
  },
  {
   "cell_type": "code",
   "execution_count": 103,
   "metadata": {},
   "outputs": [],
   "source": [
    "import pandas as pd\n",
    "\n",
    "df = pd.DataFrame(index = names_lst, columns = names_lst)\n",
    "for line in data_lst:\n",
    "    df[line[0]][line[2]] = line[1]"
   ]
  },
  {
   "cell_type": "code",
   "execution_count": 127,
   "metadata": {},
   "outputs": [
    {
     "data": {
      "text/html": [
       "<div>\n",
       "<style scoped>\n",
       "    .dataframe tbody tr th:only-of-type {\n",
       "        vertical-align: middle;\n",
       "    }\n",
       "\n",
       "    .dataframe tbody tr th {\n",
       "        vertical-align: top;\n",
       "    }\n",
       "\n",
       "    .dataframe thead th {\n",
       "        text-align: right;\n",
       "    }\n",
       "</style>\n",
       "<table border=\"1\" class=\"dataframe\">\n",
       "  <thead>\n",
       "    <tr style=\"text-align: right;\">\n",
       "      <th></th>\n",
       "      <th>Eric</th>\n",
       "      <th>Mallory</th>\n",
       "      <th>George</th>\n",
       "      <th>Frank</th>\n",
       "      <th>Alice</th>\n",
       "      <th>David</th>\n",
       "      <th>Carol</th>\n",
       "      <th>Bob</th>\n",
       "    </tr>\n",
       "  </thead>\n",
       "  <tbody>\n",
       "    <tr>\n",
       "      <th>Eric</th>\n",
       "      <td>NaN</td>\n",
       "      <td>-66</td>\n",
       "      <td>54</td>\n",
       "      <td>-17</td>\n",
       "      <td>21</td>\n",
       "      <td>-30</td>\n",
       "      <td>-46</td>\n",
       "      <td>49</td>\n",
       "    </tr>\n",
       "    <tr>\n",
       "      <th>Mallory</th>\n",
       "      <td>-99</td>\n",
       "      <td>NaN</td>\n",
       "      <td>7</td>\n",
       "      <td>-56</td>\n",
       "      <td>-80</td>\n",
       "      <td>-20</td>\n",
       "      <td>10</td>\n",
       "      <td>29</td>\n",
       "    </tr>\n",
       "    <tr>\n",
       "      <th>George</th>\n",
       "      <td>34</td>\n",
       "      <td>-99</td>\n",
       "      <td>NaN</td>\n",
       "      <td>18</td>\n",
       "      <td>-4</td>\n",
       "      <td>75</td>\n",
       "      <td>-35</td>\n",
       "      <td>23</td>\n",
       "    </tr>\n",
       "    <tr>\n",
       "      <th>Frank</th>\n",
       "      <td>95</td>\n",
       "      <td>-75</td>\n",
       "      <td>30</td>\n",
       "      <td>NaN</td>\n",
       "      <td>-81</td>\n",
       "      <td>-12</td>\n",
       "      <td>33</td>\n",
       "      <td>68</td>\n",
       "    </tr>\n",
       "    <tr>\n",
       "      <th>Alice</th>\n",
       "      <td>8</td>\n",
       "      <td>31</td>\n",
       "      <td>45</td>\n",
       "      <td>-97</td>\n",
       "      <td>NaN</td>\n",
       "      <td>43</td>\n",
       "      <td>-54</td>\n",
       "      <td>93</td>\n",
       "    </tr>\n",
       "    <tr>\n",
       "      <th>David</th>\n",
       "      <td>-34</td>\n",
       "      <td>91</td>\n",
       "      <td>54</td>\n",
       "      <td>56</td>\n",
       "      <td>65</td>\n",
       "      <td>NaN</td>\n",
       "      <td>-37</td>\n",
       "      <td>5</td>\n",
       "    </tr>\n",
       "    <tr>\n",
       "      <th>Carol</th>\n",
       "      <td>-69</td>\n",
       "      <td>95</td>\n",
       "      <td>63</td>\n",
       "      <td>-9</td>\n",
       "      <td>-62</td>\n",
       "      <td>-53</td>\n",
       "      <td>NaN</td>\n",
       "      <td>19</td>\n",
       "    </tr>\n",
       "    <tr>\n",
       "      <th>Bob</th>\n",
       "      <td>-89</td>\n",
       "      <td>-32</td>\n",
       "      <td>76</td>\n",
       "      <td>6</td>\n",
       "      <td>-2</td>\n",
       "      <td>-96</td>\n",
       "      <td>-70</td>\n",
       "      <td>NaN</td>\n",
       "    </tr>\n",
       "  </tbody>\n",
       "</table>\n",
       "</div>"
      ],
      "text/plain": [
       "        Eric Mallory George Frank Alice David Carol  Bob\n",
       "Eric     NaN     -66     54   -17    21   -30   -46   49\n",
       "Mallory  -99     NaN      7   -56   -80   -20    10   29\n",
       "George    34     -99    NaN    18    -4    75   -35   23\n",
       "Frank     95     -75     30   NaN   -81   -12    33   68\n",
       "Alice      8      31     45   -97   NaN    43   -54   93\n",
       "David    -34      91     54    56    65   NaN   -37    5\n",
       "Carol    -69      95     63    -9   -62   -53   NaN   19\n",
       "Bob      -89     -32     76     6    -2   -96   -70  NaN"
      ]
     },
     "execution_count": 127,
     "metadata": {},
     "output_type": "execute_result"
    }
   ],
   "source": [
    "df"
   ]
  },
  {
   "cell_type": "code",
   "execution_count": 105,
   "metadata": {},
   "outputs": [
    {
     "data": {
      "text/plain": [
       "('Eric', 'Mallory', 'George', 'Frank', 'Alice', 'David', 'Carol', 'Bob')"
      ]
     },
     "execution_count": 105,
     "metadata": {},
     "output_type": "execute_result"
    }
   ],
   "source": [
    "all_scenarios[0]"
   ]
  },
  {
   "cell_type": "code",
   "execution_count": 116,
   "metadata": {},
   "outputs": [],
   "source": [
    "def cal_happiness(onetuple, one_df):\n",
    "    result = 0\n",
    "    num = len(onetuple)\n",
    "    for i in range(-1, num-1):\n",
    "        result += one_df[onetuple[i]][onetuple[i+1]] + one_df[onetuple[i+1]][onetuple[i]]\n",
    "    return result"
   ]
  },
  {
   "cell_type": "code",
   "execution_count": 114,
   "metadata": {},
   "outputs": [],
   "source": [
    "all_results = []\n",
    "for t in all_scenarios:\n",
    "    r = cal_happiness(t, df)\n",
    "    all_results.append(r)"
   ]
  },
  {
   "cell_type": "code",
   "execution_count": 115,
   "metadata": {},
   "outputs": [
    {
     "name": "stdout",
     "output_type": "stream",
     "text": [
      "664\n"
     ]
    }
   ],
   "source": [
    "max_happiness = max(all_results)\n",
    "print(max_happiness)"
   ]
  },
  {
   "cell_type": "code",
   "execution_count": 3,
   "metadata": {},
   "outputs": [
    {
     "name": "stdout",
     "output_type": "stream",
     "text": [
      "[['Alice', 'Bob', -2], ['Alice', 'Carol', -62], ['Alice', 'David', 65], ['Alice', 'Eric', 21], ['Alice', 'Frank', -81], ['Alice', 'George', -4], ['Alice', 'Mallory', -80], ['Bob', 'Alice', 93], ['Bob', 'Carol', 19], ['Bob', 'David', 5], ['Bob', 'Eric', 49], ['Bob', 'Frank', 68], ['Bob', 'George', 23], ['Bob', 'Mallory', 29], ['Carol', 'Alice', -54], ['Carol', 'Bob', -70], ['Carol', 'David', -37], ['Carol', 'Eric', -46], ['Carol', 'Frank', 33], ['Carol', 'George', -35], ['Carol', 'Mallory', 10], ['David', 'Alice', 43], ['David', 'Bob', -96], ['David', 'Carol', -53], ['David', 'Eric', -30], ['David', 'Frank', -12], ['David', 'George', 75], ['David', 'Mallory', -20], ['Eric', 'Alice', 8], ['Eric', 'Bob', -89], ['Eric', 'Carol', -69], ['Eric', 'David', -34], ['Eric', 'Frank', 95], ['Eric', 'George', 34], ['Eric', 'Mallory', -99], ['Frank', 'Alice', -97], ['Frank', 'Bob', 6], ['Frank', 'Carol', -9], ['Frank', 'David', 56], ['Frank', 'Eric', -17], ['Frank', 'George', 18], ['Frank', 'Mallory', -56], ['George', 'Alice', 45], ['George', 'Bob', 76], ['George', 'Carol', 63], ['George', 'David', 54], ['George', 'Eric', 54], ['George', 'Frank', 30], ['George', 'Mallory', 7], ['Mallory', 'Alice', 31], ['Mallory', 'Bob', -32], ['Mallory', 'Carol', 95], ['Mallory', 'David', 91], ['Mallory', 'Eric', -66], ['Mallory', 'Frank', -75], ['Mallory', 'George', -99]] ['David', 'Eric', 'George', 'Frank', 'Bob', 'Mallory', 'Carol', 'Alice']\n",
      "[['Alice', 'Bob', -2], ['Alice', 'Carol', -62], ['Alice', 'David', 65], ['Alice', 'Eric', 21], ['Alice', 'Frank', -81], ['Alice', 'George', -4], ['Alice', 'Mallory', -80], ['Bob', 'Alice', 93], ['Bob', 'Carol', 19], ['Bob', 'David', 5], ['Bob', 'Eric', 49], ['Bob', 'Frank', 68], ['Bob', 'George', 23], ['Bob', 'Mallory', 29], ['Carol', 'Alice', -54], ['Carol', 'Bob', -70], ['Carol', 'David', -37], ['Carol', 'Eric', -46], ['Carol', 'Frank', 33], ['Carol', 'George', -35], ['Carol', 'Mallory', 10], ['David', 'Alice', 43], ['David', 'Bob', -96], ['David', 'Carol', -53], ['David', 'Eric', -30], ['David', 'Frank', -12], ['David', 'George', 75], ['David', 'Mallory', -20], ['Eric', 'Alice', 8], ['Eric', 'Bob', -89], ['Eric', 'Carol', -69], ['Eric', 'David', -34], ['Eric', 'Frank', 95], ['Eric', 'George', 34], ['Eric', 'Mallory', -99], ['Frank', 'Alice', -97], ['Frank', 'Bob', 6], ['Frank', 'Carol', -9], ['Frank', 'David', 56], ['Frank', 'Eric', -17], ['Frank', 'George', 18], ['Frank', 'Mallory', -56], ['George', 'Alice', 45], ['George', 'Bob', 76], ['George', 'Carol', 63], ['George', 'David', 54], ['George', 'Eric', 54], ['George', 'Frank', 30], ['George', 'Mallory', 7], ['Mallory', 'Alice', 31], ['Mallory', 'Bob', -32], ['Mallory', 'Carol', 95], ['Mallory', 'David', 91], ['Mallory', 'Eric', -66], ['Mallory', 'Frank', -75], ['Mallory', 'George', -99]] ['David', 'Eric', 'George', 'Frank', 'Bob', 'Mallory', 'Carol', 'Alice']\n",
      "('David', 'Eric', 'George', 'Frank', 'Bob', 'Mallory', 'Carol', 'Alice')\n",
      "overall permutation number: 40320\n",
      "overall result number:  40320\n",
      "highest point is:  664\n",
      "0:00:01.397262\n"
     ]
    }
   ],
   "source": [
    "# Travelling Salesperson Problems, only can solve to a small sets, otherwise too big to iterate\n",
    "\n",
    "import itertools\n",
    "from datetime import datetime\n",
    "\n",
    "def getNeighbourHappiness():\n",
    "    HappinessPoints = []\n",
    "    Names = []\n",
    "    with open('2015-Q13_tyler.txt') as f:\n",
    "        mylist = f.read().splitlines() \n",
    "    f.close()\n",
    "    for line in mylist:\n",
    "        linelist = line.rstrip(\".\").split()\n",
    "        HappinessPoints.append([linelist[0], linelist[-1], int(linelist[3])]) if linelist[2]==\"gain\" else HappinessPoints.append([linelist[0], linelist[-1], int(linelist[3])*-1])\n",
    "        Names.append(linelist[0])\n",
    "        NameList = list(set(Names))\n",
    "    print(HappinessPoints, NameList)\n",
    "    return HappinessPoints, NameList\n",
    "    \n",
    "getNeighbourHappiness()\n",
    "\n",
    "# calculate each sitting happiness \n",
    "def calculatePoints(sitting, HappinessPoints):\n",
    "    points = 0\n",
    "    for i in range(len(sitting)-1):\n",
    "        for HP in HappinessPoints:\n",
    "            if sitting[i] in HP and sitting[i+1] in HP:\n",
    "                points += HP[2]\n",
    "    return points\n",
    "\n",
    "results =[]\n",
    "def main():\n",
    "    HappinessPoints, NameList = getNeighbourHappiness()\n",
    "\n",
    "    # create all name list permutations to use to iterate\n",
    "    allPermutations = list(itertools.permutations(NameList))\n",
    "    print(allPermutations[0])\n",
    "    print(\"overall permutation number:\", len(allPermutations))\n",
    "\n",
    "    # calculate points and push to results list\n",
    "    for sitting in allPermutations:\n",
    "        sittingAround = list(sitting)\n",
    "        sittingAround.append(sitting[0])\n",
    "        results.append(calculatePoints(sittingAround, HappinessPoints))\n",
    "    print(\"overall result number: \", len(results))\n",
    "\n",
    "    # get the max value \n",
    "    print(\"highest point is: \", max(results))\n",
    "t1 = datetime.now()\n",
    "main()\n",
    "t2 = datetime.now()\n",
    "print(t2-t1)"
   ]
  },
  {
   "cell_type": "markdown",
   "metadata": {},
   "source": [
    "# Answer 14"
   ]
  },
  {
   "cell_type": "code",
   "execution_count": 36,
   "metadata": {},
   "outputs": [
    {
     "data": {
      "text/plain": [
       "3"
      ]
     },
     "execution_count": 36,
     "metadata": {},
     "output_type": "execute_result"
    }
   ],
   "source": [
    "#[1]Input \n",
    "dic = {'a':1, 'b':2, 'c': 3}\n",
    "max(dic.values())"
   ]
  },
  {
   "cell_type": "code",
   "execution_count": 31,
   "metadata": {},
   "outputs": [],
   "source": [
    "dic1 = dic.copy()"
   ]
  },
  {
   "cell_type": "code",
   "execution_count": 32,
   "metadata": {},
   "outputs": [],
   "source": [
    "del dic1['a']"
   ]
  },
  {
   "cell_type": "code",
   "execution_count": 33,
   "metadata": {},
   "outputs": [
    {
     "data": {
      "text/plain": [
       "{'b': 2, 'c': 2}"
      ]
     },
     "execution_count": 33,
     "metadata": {},
     "output_type": "execute_result"
    }
   ],
   "source": [
    "dic1"
   ]
  },
  {
   "cell_type": "code",
   "execution_count": 34,
   "metadata": {},
   "outputs": [
    {
     "data": {
      "text/plain": [
       "{'a': 1, 'b': 2, 'c': 2}"
      ]
     },
     "execution_count": 34,
     "metadata": {},
     "output_type": "execute_result"
    }
   ],
   "source": [
    "dic"
   ]
  },
  {
   "cell_type": "code",
   "execution_count": 35,
   "metadata": {},
   "outputs": [
    {
     "data": {
      "text/plain": [
       "{'a': 2, 'b': 2, 'c': 2}"
      ]
     },
     "execution_count": 35,
     "metadata": {},
     "output_type": "execute_result"
    }
   ],
   "source": [
    "dic['a'] += 1\n",
    "dic"
   ]
  },
  {
   "cell_type": "markdown",
   "metadata": {},
   "source": [
    "# Answer 15"
   ]
  },
  {
   "cell_type": "code",
   "execution_count": 1,
   "metadata": {},
   "outputs": [],
   "source": [
    "str_input = \"\"\"Sprinkles: capacity 5, durability -1, flavor 0, texture 0, calories 5\n",
    "PeanutButter: capacity -1, durability 3, flavor 0, texture 0, calories 1\n",
    "Frosting: capacity 0, durability -1, flavor 4, texture 0, calories 6\n",
    "Sugar: capacity -1, durability 0, flavor 0, texture 2, calories 8\n",
    "\"\"\""
   ]
  },
  {
   "cell_type": "code",
   "execution_count": 49,
   "metadata": {},
   "outputs": [],
   "source": [
    "import pandas as pd\n",
    "import numpy as np"
   ]
  },
  {
   "cell_type": "code",
   "execution_count": 51,
   "metadata": {},
   "outputs": [],
   "source": [
    "info = []\n",
    "arr = []\n",
    "for line in str_input.split('\\n')[:-1]:\n",
    "    # sl is splited line\n",
    "    sl = line.split()\n",
    "    info.append([sl[0][:-1], int(sl[2][:-1]), int(sl[4][:-1]), int(sl[6][:-1]), int(sl[8][:-1]), int(sl[-1])])\n",
    "headers = ['name', 'capacity', 'durability', 'flavor', 'texture', 'calories']"
   ]
  },
  {
   "cell_type": "code",
   "execution_count": 28,
   "metadata": {},
   "outputs": [],
   "source": [
    "df = pd.DataFrame(data = info, columns = headers)"
   ]
  },
  {
   "cell_type": "code",
   "execution_count": 58,
   "metadata": {},
   "outputs": [
    {
     "data": {
      "text/html": [
       "<div>\n",
       "<style scoped>\n",
       "    .dataframe tbody tr th:only-of-type {\n",
       "        vertical-align: middle;\n",
       "    }\n",
       "\n",
       "    .dataframe tbody tr th {\n",
       "        vertical-align: top;\n",
       "    }\n",
       "\n",
       "    .dataframe thead th {\n",
       "        text-align: right;\n",
       "    }\n",
       "</style>\n",
       "<table border=\"1\" class=\"dataframe\">\n",
       "  <thead>\n",
       "    <tr style=\"text-align: right;\">\n",
       "      <th></th>\n",
       "      <th>name</th>\n",
       "      <th>capacity</th>\n",
       "      <th>durability</th>\n",
       "      <th>flavor</th>\n",
       "      <th>texture</th>\n",
       "      <th>calories</th>\n",
       "    </tr>\n",
       "  </thead>\n",
       "  <tbody>\n",
       "    <tr>\n",
       "      <th>0</th>\n",
       "      <td>Sprinkles</td>\n",
       "      <td>5</td>\n",
       "      <td>-1</td>\n",
       "      <td>0</td>\n",
       "      <td>0</td>\n",
       "      <td>5</td>\n",
       "    </tr>\n",
       "    <tr>\n",
       "      <th>1</th>\n",
       "      <td>PeanutButter</td>\n",
       "      <td>-1</td>\n",
       "      <td>3</td>\n",
       "      <td>0</td>\n",
       "      <td>0</td>\n",
       "      <td>1</td>\n",
       "    </tr>\n",
       "    <tr>\n",
       "      <th>2</th>\n",
       "      <td>Frosting</td>\n",
       "      <td>0</td>\n",
       "      <td>-1</td>\n",
       "      <td>4</td>\n",
       "      <td>0</td>\n",
       "      <td>6</td>\n",
       "    </tr>\n",
       "    <tr>\n",
       "      <th>3</th>\n",
       "      <td>Sugar</td>\n",
       "      <td>-1</td>\n",
       "      <td>0</td>\n",
       "      <td>0</td>\n",
       "      <td>2</td>\n",
       "      <td>8</td>\n",
       "    </tr>\n",
       "  </tbody>\n",
       "</table>\n",
       "</div>"
      ],
      "text/plain": [
       "           name  capacity  durability  flavor  texture  calories\n",
       "0     Sprinkles         5          -1       0        0         5\n",
       "1  PeanutButter        -1           3       0        0         1\n",
       "2      Frosting         0          -1       4        0         6\n",
       "3         Sugar        -1           0       0        2         8"
      ]
     },
     "execution_count": 58,
     "metadata": {},
     "output_type": "execute_result"
    }
   ],
   "source": [
    "df"
   ]
  },
  {
   "cell_type": "code",
   "execution_count": 57,
   "metadata": {},
   "outputs": [
    {
     "data": {
      "text/plain": [
       "array([[ 5, -1,  0,  0,  5],\n",
       "       [-1,  3,  0,  0,  1],\n",
       "       [ 0, -1,  4,  0,  6],\n",
       "       [-1,  0,  0,  2,  8]], dtype=int64)"
      ]
     },
     "execution_count": 57,
     "metadata": {},
     "output_type": "execute_result"
    }
   ],
   "source": [
    "arr = df[['capacity', 'durability', 'flavor', 'texture', 'calories']].to_numpy()\n",
    "arr"
   ]
  },
  {
   "cell_type": "code",
   "execution_count": 30,
   "metadata": {},
   "outputs": [],
   "source": [
    "# Generate two numbers, the sum of them are equal to 'num'\n",
    "def recipe(num):\n",
    "    recipe_lst = []\n",
    "    for i in range(num + 1):\n",
    "        recipe_lst.append([i, num - i])\n",
    "    return recipe_lst"
   ]
  },
  {
   "cell_type": "code",
   "execution_count": 36,
   "metadata": {},
   "outputs": [],
   "source": [
    "# Generate 4 numbers, the sum of them are equal to 'num'\n",
    "def f_element_recipe(num):\n",
    "    recipe_lst = []\n",
    "    for line in recipe(num):\n",
    "        part1 = recipe(line[0])\n",
    "        part2 = recipe(line[1])\n",
    "        for p1 in part1:\n",
    "            for p2 in part2:\n",
    "                recipe_lst.append([p1[0], p1[1], p2[0], p2[1]])\n",
    "    return recipe_lst"
   ]
  },
  {
   "cell_type": "code",
   "execution_count": 73,
   "metadata": {},
   "outputs": [],
   "source": [
    "one_hundred_spoon = f_element_recipe(100)"
   ]
  },
  {
   "cell_type": "code",
   "execution_count": 64,
   "metadata": {},
   "outputs": [],
   "source": [
    "# replace negative numbers in list by zero, output new number list.\n",
    "def check_negtive_num(num_lst):\n",
    "    new_lst = []\n",
    "    for n in num_lst:\n",
    "        if n < 0:\n",
    "            new_lst.append(0)\n",
    "        else:\n",
    "            new_lst.append(n)\n",
    "    return new_lst"
   ]
  },
  {
   "cell_type": "code",
   "execution_count": 67,
   "metadata": {},
   "outputs": [],
   "source": [
    "recipe_result_p1 = []\n",
    "for r in one_hundred_spoon:\n",
    "    score = np.prod(check_negtive_num(np.dot(r, arr))[:-1])\n",
    "    recipe_result_p1.append(score)"
   ]
  },
  {
   "cell_type": "code",
   "execution_count": 78,
   "metadata": {},
   "outputs": [],
   "source": [
    "max_p1 = max(recipe_result_p1)"
   ]
  },
  {
   "cell_type": "code",
   "execution_count": 79,
   "metadata": {},
   "outputs": [
    {
     "name": "stdout",
     "output_type": "stream",
     "text": [
      "The best recipe: 28 teaspoons of Sprinkles, 35 teaspoons of PeanutButter, 18 teaspoons of Frosting and 19 teaspoons of Sugar.\n",
      "The score of this recipe is 13882464 \n"
     ]
    }
   ],
   "source": [
    "i, j, m, n = one_hundred_spoon[recipe_result_p1.index(max_p1)]\n",
    "print(df)\n",
    "print(f\"The best recipe: {i} teaspoons of Sprinkles, {j} teaspoons of PeanutButter, {m} teaspoons of Frosting and {n} teaspoons of Sugar.\")\n",
    "print(f\"The score of this recipe is {max_p1} \")"
   ]
  },
  {
   "cell_type": "markdown",
   "metadata": {},
   "source": [
    "# Part 2"
   ]
  },
  {
   "cell_type": "code",
   "execution_count": 80,
   "metadata": {},
   "outputs": [],
   "source": [
    "recipe_result_p2 = []\n",
    "for r in f_element_recipe(100):\n",
    "    recipe_dot_result = np.dot(r, arr)\n",
    "    if recipe_dot_result[-1] == 500:\n",
    "        recipe_result_p2.append(np.prod(check_negtive_num(recipe_dot_result[:-1])))\n",
    "max_p2 = max(recipe_result_p2)"
   ]
  },
  {
   "cell_type": "code",
   "execution_count": 82,
   "metadata": {},
   "outputs": [
    {
     "name": "stdout",
     "output_type": "stream",
     "text": [
      "           name  capacity  durability  flavor  texture  calories\n",
      "0     Sprinkles         5          -1       0        0         5\n",
      "1  PeanutButter        -1           3       0        0         1\n",
      "2      Frosting         0          -1       4        0         6\n",
      "3         Sugar        -1           0       0        2         8\n",
      "The best recipe: 27 teaspoons of Sprinkles, 27 teaspoons of PeanutButter, 15 teaspoons of Frosting and 31 teaspoons of Sugar.\n",
      "The score of this recipe is 11171160 \n"
     ]
    }
   ],
   "source": [
    "i, j, m, n = one_hundred_spoon[recipe_result_p1.index(max_p2)]\n",
    "print(df)\n",
    "print(f\"The best recipe: {i} teaspoons of Sprinkles, {j} teaspoons of PeanutButter, {m} teaspoons of Frosting and {n} teaspoons of Sugar.\")\n",
    "print(f\"The score of this recipe is {max_p2} \")"
   ]
  },
  {
   "cell_type": "code",
   "execution_count": 9,
   "metadata": {},
   "outputs": [
    {
     "name": "stdout",
     "output_type": "stream",
     "text": [
      "dict_keys(['children', 'cats', 'samoyeds', 'pomeranians', 'akitas', 'vizslas', 'goldfish', 'trees', 'cars', 'perfumes'])\n",
      "['Sue', <generator object <genexpr> at 0x00000146E8CD4948>]\n"
     ]
    }
   ],
   "source": [
    "# Get the input from the Aunt Sue who sent you gift\n",
    "aunt_sue_lst = ('''children: 3\n",
    "cats: 7\n",
    "samoyeds: 2\n",
    "pomeranians: 3\n",
    "akitas: 0\n",
    "vizslas: 0\n",
    "goldfish: 5\n",
    "trees: 3\n",
    "cars: 2\n",
    "perfumes: 1''').split()\n",
    "aunt_sue_dic = {}\n",
    "for i in range(0, len(aunt_sue_lst), 2):\n",
    "    aunt_sue_dic.update([(aunt_sue_lst[i][:-1], int(aunt_sue_lst[i+1]))])\n",
    "print(aunt_sue_dic.keys())\n",
    "\n",
    "headers = ['Sue']\n",
    "headers.append(m for m,n in aunt_sue_dic.items())\n",
    "print(headers)"
   ]
  },
  {
   "cell_type": "code",
   "execution_count": 7,
   "metadata": {},
   "outputs": [
    {
     "name": "stdout",
     "output_type": "stream",
     "text": [
      "children\n",
      "cats\n",
      "samoyeds\n",
      "pomeranians\n",
      "akitas\n",
      "vizslas\n",
      "goldfish\n",
      "trees\n",
      "cars\n",
      "perfumes\n"
     ]
    }
   ],
   "source": [
    "for k in list(aunt_sue_dic.keys()):\n",
    "    print(k)"
   ]
  },
  {
   "cell_type": "markdown",
   "metadata": {},
   "source": [
    "# Answer 17"
   ]
  },
  {
   "cell_type": "code",
   "execution_count": 3,
   "metadata": {},
   "outputs": [],
   "source": [
    "# Read the input from the file and close it\n",
    "with open('./input/2015/q17.txt') as f:\n",
    "    containers = []\n",
    "    for c in f.readlines():\n",
    "        containers.append(int(c))\n",
    "f.close()"
   ]
  },
  {
   "cell_type": "code",
   "execution_count": 131,
   "metadata": {},
   "outputs": [],
   "source": [
    "def get_target_value(lst, target):\n",
    "    take_number = []\n",
    "    total = 0\n",
    "    for c in containers:\n",
    "        take_number.append(c)\n",
    "        total += c\n",
    "        if total > target:\n",
    "            return take_number\n",
    "        \n",
    "def init_check(lst, target):\n",
    "    lst.sort()\n",
    "    temp_lst = get_target_value(lst, target)\n",
    "    #print(temp_lst)\n",
    "    #print(f'target is {target}. if we take the number from min, we need at least {len(temp_lst)} numbers')\n",
    "    a = len(temp_lst)\n",
    "    lst.reverse()\n",
    "    temp_lst = get_target_value(lst, target)\n",
    "    #print(temp_lst)\n",
    "    #print(f'target is {target}. if we take the number from max, we need at least {len(temp_lst)} numbers')\n",
    "    b = len(temp_lst)\n",
    "    return b, a"
   ]
  },
  {
   "cell_type": "code",
   "execution_count": 122,
   "metadata": {},
   "outputs": [],
   "source": [
    "def senerio(qty, lst):\n",
    "    output_lst = []\n",
    "    for i, c in enumerate(lst):\n",
    "        _lst_sub = lst[i+1:].copy()\n",
    "        if qty > 2:\n",
    "            o_lst = senerio(qty-1, _lst_sub)\n",
    "        elif qty ==2:\n",
    "            o_lst = item2lst(_lst_sub)\n",
    "        _sub_output_lst = add_item2lst(c, o_lst)\n",
    "        \n",
    "        output_lst.extend(_sub_output_lst)\n",
    "    return output_lst       "
   ]
  },
  {
   "cell_type": "code",
   "execution_count": 110,
   "metadata": {},
   "outputs": [],
   "source": [
    "def item2lst(lst):\n",
    "    \"\"\"Create a list of list. [1,2,3] output [[1], [2], [3]]\"\"\"\n",
    "    _empty_lst = []\n",
    "    final_lst = []\n",
    "    for item in lst:\n",
    "        _e_lst = _empty_lst.copy()\n",
    "        _e_lst.append(item)\n",
    "        final_lst.append(_e_lst)\n",
    "    return final_lst"
   ]
  },
  {
   "cell_type": "code",
   "execution_count": 105,
   "metadata": {},
   "outputs": [],
   "source": [
    "def add_item2lst(i, lst_of_lst):\n",
    "    \"\"\"\n",
    "    add one item to lst of lst, add_item2lst(1, [[2],[3],[4]]) output [[2, 1], [3, 1], [4, 1]]\n",
    "    \"\"\"\n",
    "    output_l = []\n",
    "    for item in lst_of_lst:\n",
    "        item.append(i)\n",
    "        output_l.append(item)\n",
    "    return output_l"
   ]
  },
  {
   "cell_type": "code",
   "execution_count": 134,
   "metadata": {},
   "outputs": [],
   "source": [
    "min_qty, max_qty = init_check(containers, 150)\n",
    "#init_check(containers, 150)"
   ]
  },
  {
   "cell_type": "code",
   "execution_count": 142,
   "metadata": {},
   "outputs": [
    {
     "name": "stdout",
     "output_type": "stream",
     "text": [
      "There are 1638 ways to store 150.\n"
     ]
    }
   ],
   "source": [
    "## Part 1\n",
    "result_lst = []\n",
    "for i in range(min_qty, max_qty):\n",
    "    for lst in senerio(i, containers):\n",
    "        if sum(lst) == 150:\n",
    "            result_lst.append(lst)\n",
    "print(f\"There are {len(result_lst)} ways to store 150.\")\n",
    "del i, lst"
   ]
  },
  {
   "cell_type": "code",
   "execution_count": 143,
   "metadata": {},
   "outputs": [
    {
     "name": "stdout",
     "output_type": "stream",
     "text": [
      "Part 2: there are 17 ways to store 150 and use 4 containers.\n"
     ]
    }
   ],
   "source": [
    "## Part 2\n",
    "min_result = []\n",
    "for i in range(min_qty, max_qty):\n",
    "    while not min_result:\n",
    "        for lst in senerio(i, containers):\n",
    "            if sum(lst) == 150:\n",
    "                min_result.append(lst)\n",
    "print(f\"Part 2: there are {len(min_result)} ways to store 150 and use {len(min_result[0])} containers.\")    "
   ]
  },
  {
   "cell_type": "markdown",
   "metadata": {},
   "source": [
    "# Day 18"
   ]
  },
  {
   "cell_type": "code",
   "execution_count": 93,
   "metadata": {},
   "outputs": [],
   "source": [
    "import numpy as np\n",
    "from itertools import islice\n",
    "import matplotlib.pyplot as plt"
   ]
  },
  {
   "cell_type": "code",
   "execution_count": 100,
   "metadata": {},
   "outputs": [],
   "source": [
    "d18_input_file_path = './input/2015/q18.txt'\n",
    "\n",
    "with open(d18_input_file_path) as f:\n",
    "    grid_char = []\n",
    "    for line in f.readlines():\n",
    "        grid_char.append(list(line))"
   ]
  },
  {
   "cell_type": "code",
   "execution_count": 101,
   "metadata": {},
   "outputs": [],
   "source": [
    "grid = np.zeros((100, 100), dtype = 'int')"
   ]
  },
  {
   "cell_type": "code",
   "execution_count": 102,
   "metadata": {},
   "outputs": [],
   "source": [
    "for i in range(100):\n",
    "    for j in range(100):\n",
    "        if grid_char[i][j] == '#':\n",
    "            grid[i][j] = 1\n",
    "#grid"
   ]
  },
  {
   "cell_type": "code",
   "execution_count": 34,
   "metadata": {},
   "outputs": [],
   "source": [
    "def x_shift(distance, arr):\n",
    "    \"\"\"\n",
    "    shift the arr along axis = 1 by distance \n",
    "    \n",
    "    Arguments:\n",
    "    distance -- int, if distance >0, toward right side.\n",
    "    arr -- current array, dtype = int\n",
    "    \n",
    "    Returns:\n",
    "    new_arr -- after shift\n",
    "    \"\"\"\n",
    "    c_zeros = np.zeros((arr.shape[0], 1), dtype = 'int')\n",
    "    if distance < 0:\n",
    "        new_arr = np.concatenate((arr[:, -distance:], c_zeros), axis = 1)\n",
    "    elif distance >0:\n",
    "        new_arr = np.concatenate((c_zeros, arr[:, :-distance]), axis = 1)\n",
    "    else:\n",
    "        new_arr = arr\n",
    "    \n",
    "    return new_arr"
   ]
  },
  {
   "cell_type": "code",
   "execution_count": 35,
   "metadata": {},
   "outputs": [],
   "source": [
    "def y_shift(distance, arr):\n",
    "    \"\"\"\n",
    "    shift the arr along axis = 0 by distance \n",
    "    \n",
    "    Arguments:\n",
    "    distance -- int, if distance >0, toward upper side.\n",
    "    arr -- current array, dtype = int\n",
    "    \n",
    "    Returns:\n",
    "    new_arr -- after shift\n",
    "    \"\"\"\n",
    "    r_zeros = np.zeros((1, arr.shape[0]), dtype = 'int')\n",
    "    if distance < 0:\n",
    "        new_arr = np.concatenate((r_zeros, arr[:distance, :]), axis = 0)\n",
    "    elif distance > 0:\n",
    "        new_arr = np.concatenate((arr[distance:, :], r_zeros), axis = 0)\n",
    "    else:\n",
    "        new_arr = arr\n",
    "    \n",
    "    return new_arr"
   ]
  },
  {
   "cell_type": "code",
   "execution_count": 45,
   "metadata": {},
   "outputs": [],
   "source": [
    "def neighbor(x, y, arr):\n",
    "    \"\"\"\n",
    "    the function to return a new arr that shifted current arr to direction.\n",
    "    \n",
    "    Arguments:\n",
    "    direction -- tuple like (1, 1) means shift to the right-up\n",
    "    arr       -- current array input\n",
    "    \n",
    "    Returns:\n",
    "    array after shift\n",
    "    \"\"\" \n",
    "    \n",
    "    if x == 0 and y == 0:\n",
    "        return np.zeros(arr.shape, dtype = 'int')\n",
    "    else:\n",
    "        x_shifted_arr = x_shift(x, arr)\n",
    "        return y_shift(y, x_shifted_arr)"
   ]
  },
  {
   "cell_type": "code",
   "execution_count": 46,
   "metadata": {},
   "outputs": [],
   "source": [
    "def neighbor_counts(arr):\n",
    "    \"\"\"\n",
    "    function to count how many light were on at this coordinate of arr.\n",
    "    \"\"\"\n",
    "    N = np.zeros(arr.shape, dtype = 'int')\n",
    "    d = [-1, 0, 1]\n",
    "    for i in d:\n",
    "        for j in d:\n",
    "            N += neighbor(i, j, arr)\n",
    "    return N"
   ]
  },
  {
   "cell_type": "code",
   "execution_count": 53,
   "metadata": {},
   "outputs": [],
   "source": [
    "def next_display(arr):\n",
    "    \"\"\"\n",
    "    return the next display of arr, based on the rule.\n",
    "    \"\"\"\n",
    "    next_arr = np.zeros(arr.shape, dtype = 'int')\n",
    "    neighbor_counts_arr = neighbor_counts(arr)\n",
    "    for i in range(arr.shape[0]):\n",
    "        for j in range(arr.shape[1]):\n",
    "            if arr[i, j] == 1:\n",
    "                if neighbor_counts_arr[i, j] in [2, 3]:\n",
    "                    next_arr[i, j] = 1\n",
    "            else:\n",
    "                if neighbor_counts_arr[i, j] == 3:\n",
    "                    next_arr[i, j] = 1\n",
    "    return next_arr"
   ]
  },
  {
   "cell_type": "code",
   "execution_count": 54,
   "metadata": {},
   "outputs": [],
   "source": [
    "def show_display(arr):\n",
    "    \"\"\"\n",
    "    generator to get next display array\n",
    "    \"\"\"\n",
    "    base_arr = arr\n",
    "    while True:\n",
    "        base_arr = next_display(base_arr)\n",
    "        yield base_arr"
   ]
  },
  {
   "cell_type": "code",
   "execution_count": 104,
   "metadata": {},
   "outputs": [
    {
     "name": "stdout",
     "output_type": "stream",
     "text": [
      "After 100 times flash, there are 814 lights on.\n"
     ]
    }
   ],
   "source": [
    "n = 100\n",
    "part1 = list(islice(show_display(grid), 0, n))\n",
    "part1_result = part1[-1]\n",
    "print(f\"After {n} times flash, there are {np.sum(part1_result)} lights on.\")"
   ]
  },
  {
   "cell_type": "code",
   "execution_count": 81,
   "metadata": {},
   "outputs": [],
   "source": [
    "def corner_on(arr):\n",
    "    new_arr = arr\n",
    "    new_arr[0,0] = 1\n",
    "    new_arr[0, arr.shape[1]-1] = 1\n",
    "    new_arr[arr.shape[0]-1, 0] = 1\n",
    "    new_arr[arr.shape[0]-1, arr.shape[1]-1] = 1\n",
    "    return new_arr"
   ]
  },
  {
   "cell_type": "code",
   "execution_count": 82,
   "metadata": {},
   "outputs": [],
   "source": [
    "def part2(arr):\n",
    "    base_arr = corner_on(arr)\n",
    "    m = 99\n",
    "    while True:\n",
    "        base_arr = corner_on(next_display(base_arr))\n",
    "        yield base_arr"
   ]
  },
  {
   "cell_type": "code",
   "execution_count": 98,
   "metadata": {},
   "outputs": [
    {
     "name": "stdout",
     "output_type": "stream",
     "text": [
      "After 100 times flash, there are 924 lights on for part2.\n"
     ]
    }
   ],
   "source": [
    "n = 100\n",
    "part2_arr = list(islice(part2(grid), n-1, n))[0]\n",
    "print(f\"After {n} times flash, there are {np.sum(part2_arr)} lights on for part2.\")"
   ]
  },
  {
   "cell_type": "code",
   "execution_count": null,
   "metadata": {},
   "outputs": [
    {
     "name": "stderr",
     "output_type": "stream",
     "text": [
      "/home/tl/.local/lib/python3.6/site-packages/ipykernel_launcher.py:2: RuntimeWarning: More than 20 figures have been opened. Figures created through the pyplot interface (`matplotlib.pyplot.figure`) are retained until explicitly closed and may consume too much memory. (To control this warning, see the rcParam `figure.max_open_warning`).\n",
      "  \n"
     ]
    },
    {
     "data": {
      "image/png": "[encoded data removed]",
      "text/plain": [
       "<Figure size 432x288 with 1 Axes>"
      ]
     },
     "metadata": {
      "needs_background": "light"
     },
     "output_type": "display_data"
    },
    {
     "data": {
      "image/png": "[encoded data removed]",
      "text/plain": [
       "<Figure size 432x288 with 1 Axes>"
      ]
     },
     "metadata": {
      "needs_background": "light"
     },
     "output_type": "display_data"
    },
    {
     "data": {
      "image/png": "[encoded data removed]",
      "text/plain": [
       "<Figure size 432x288 with 1 Axes>"
      ]
     },
     "metadata": {
      "needs_background": "light"
     },
     "output_type": "display_data"
    },
    {
     "data": {
      "image/png": "[encoded data removed]",
      "text/plain": [
       "<Figure size 432x288 with 1 Axes>"
      ]
     },
     "metadata": {
      "needs_background": "light"
     },
     "output_type": "display_data"
    },
    {
     "data": {
      "image/png": "[encoded data removed]",
      "text/plain": [
       "<Figure size 432x288 with 1 Axes>"
      ]
     },
     "metadata": {
      "needs_background": "light"
     },
     "output_type": "display_data"
    },
    {
     "data": {
      "image/png": "[encoded data removed]",
      "text/plain": [
       "<Figure size 432x288 with 1 Axes>"
      ]
     },
     "metadata": {
      "needs_background": "light"
     },
     "output_type": "display_data"
    }
   ],
   "source": [
    "def one_shot(arr):\n",
    "    fig, ax = plt.subplots()\n",
    "\n",
    "    x, y = np.argwhere(arr == 1).T\n",
    "    ax.scatter(x, y, s = 0.5)\n",
    "    #ax.set(xlabel='X', ylabel='x^{}'.format(power),title='Powers of x')\n",
    "    fig.canvas.draw()\n",
    "    #plt.show()\n",
    "    image = np.frombuffer(fig.canvas.tostring_rgb(), dtype='uint8')\n",
    "    image = image.reshape(fig.canvas.get_width_height()[::-1] + (3,))\n",
    "\n",
    "    return image\n",
    "\n",
    "imageio.mimsave('./powers.gif', [one_shot(arr) for arr in list(islice(part2(grid), 50, 100))], fps=3)"
   ]
  },
  {
   "cell_type": "code",
   "execution_count": null,
   "metadata": {},
   "outputs": [],
   "source": []
  }
 ],
 "metadata": {
  "kernelspec": {
   "display_name": "Python 3",
   "language": "python",
   "name": "python3"
  },
  "language_info": {
   "codemirror_mode": {
    "name": "ipython",
    "version": 3
   },
   "file_extension": ".py",
   "mimetype": "text/x-python",
   "name": "python",
   "nbconvert_exporter": "python",
   "pygments_lexer": "ipython3",
   "version": "3.6.9"
  }
 },
 "nbformat": 4,
 "nbformat_minor": 4
}
