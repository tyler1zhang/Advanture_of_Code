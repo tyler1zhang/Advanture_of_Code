{
 "cells": [
  {
   "cell_type": "markdown",
   "metadata": {},
   "source": [
    "# Answer 13"
   ]
  },
  {
   "cell_type": "code",
   "execution_count": 123,
   "metadata": {},
   "outputs": [],
   "source": [
    "# Output one list of [name1, num, name2], and one names list to store all names. \n",
    "with open('2015-Q13_tyler.txt') as f:\n",
    "    data_lst = []\n",
    "    names_lst = []\n",
    "    for line in f.readlines():\n",
    "        line_lst = line.split()\n",
    "        if line_lst[2] == 'gain':\n",
    "            data_lst.append([line_lst[0], int(line_lst[3]), line_lst[-1][:-1]])\n",
    "        else:\n",
    "            data_lst.append([line_lst[0], -int(line_lst[3]), line_lst[-1][:-1]])\n",
    "        names_lst.append(line_lst[0])\n",
    "    names_set = set(names_lst)\n",
    "f.close()"
   ]
  },
  {
   "cell_type": "code",
   "execution_count": 124,
   "metadata": {},
   "outputs": [
    {
     "data": {
      "text/plain": [
       "{'Alice', 'Bob', 'Carol', 'David', 'Eric', 'Frank', 'George', 'Mallory'}"
      ]
     },
     "execution_count": 124,
     "metadata": {},
     "output_type": "execute_result"
    }
   ],
   "source": [
    "names_set"
   ]
  },
  {
   "cell_type": "code",
   "execution_count": 10,
   "metadata": {},
   "outputs": [],
   "source": [
    "import itertools\n",
    "\n",
    "# List all permutation of names\n",
    "#p = [list(i) for i in list(itertools.permutations(names_lst))]\n",
    "p = list(itertools.permutations(names_lst))"
   ]
  },
  {
   "cell_type": "code",
   "execution_count": 32,
   "metadata": {},
   "outputs": [],
   "source": [
    "# Use tuple\n",
    "def start_cycle_tuple(t):\n",
    "    lst = list(t)\n",
    "    l1 = lst[1:]\n",
    "    l1.append(lst[0])\n",
    "    t1 = tuple(l1)\n",
    "    return t1"
   ]
  },
  {
   "cell_type": "code",
   "execution_count": 87,
   "metadata": {},
   "outputs": [],
   "source": [
    "def clean_sequence(permutations_list):\n",
    "    # Due to cycle table, every squence will be repeated by 2*len(s) times. ex: \"abc\" is same as \"bca\", \"cab\" and 3 reverse sequence. \n",
    "    all_scenarios_list = []\n",
    "    sequence_tuple_set = {''}\n",
    "    for line_tuple in permutations_list:\n",
    "        if line_tuple not in sequence_tuple_set:\n",
    "            all_scenarios_list.append(line_tuple)\n",
    "        temp_lst = list(line_tuple)\n",
    "        temp_lst.reverse()\n",
    "        temp_tuple = tuple(temp_lst)\n",
    "        temp_tuple_r = line_tuple\n",
    "        for i in range(len(line_tuple)):\n",
    "            sequence_tuple_set.add(temp_tuple_r)\n",
    "            sequence_tuple_set.add(temp_tuple)\n",
    "            temp_tuple_r = start_cycle_tuple(temp_tuple_r)\n",
    "            temp_tuple = start_cycle_tuple(temp_tuple)\n",
    "            \n",
    "    return all_scenarios_list"
   ]
  },
  {
   "cell_type": "code",
   "execution_count": 88,
   "metadata": {},
   "outputs": [],
   "source": [
    "# All scenarios for cycle table. \n",
    "all_scenarios = clean_sequence(p)"
   ]
  },
  {
   "cell_type": "code",
   "execution_count": 90,
   "metadata": {},
   "outputs": [
    {
     "data": {
      "text/plain": [
       "('Eric', 'Mallory', 'George', 'Frank', 'Alice', 'David', 'Carol', 'Bob')"
      ]
     },
     "execution_count": 90,
     "metadata": {},
     "output_type": "execute_result"
    }
   ],
   "source": [
    "all_scenarios[0]"
   ]
  },
  {
   "cell_type": "code",
   "execution_count": 103,
   "metadata": {},
   "outputs": [],
   "source": [
    "import pandas as pd\n",
    "\n",
    "df = pd.DataFrame(index = names_lst, columns = names_lst)\n",
    "for line in data_lst:\n",
    "    df[line[0]][line[2]] = line[1]"
   ]
  },
  {
   "cell_type": "code",
   "execution_count": 127,
   "metadata": {},
   "outputs": [
    {
     "data": {
      "text/html": [
       "<div>\n",
       "<style scoped>\n",
       "    .dataframe tbody tr th:only-of-type {\n",
       "        vertical-align: middle;\n",
       "    }\n",
       "\n",
       "    .dataframe tbody tr th {\n",
       "        vertical-align: top;\n",
       "    }\n",
       "\n",
       "    .dataframe thead th {\n",
       "        text-align: right;\n",
       "    }\n",
       "</style>\n",
       "<table border=\"1\" class=\"dataframe\">\n",
       "  <thead>\n",
       "    <tr style=\"text-align: right;\">\n",
       "      <th></th>\n",
       "      <th>Eric</th>\n",
       "      <th>Mallory</th>\n",
       "      <th>George</th>\n",
       "      <th>Frank</th>\n",
       "      <th>Alice</th>\n",
       "      <th>David</th>\n",
       "      <th>Carol</th>\n",
       "      <th>Bob</th>\n",
       "    </tr>\n",
       "  </thead>\n",
       "  <tbody>\n",
       "    <tr>\n",
       "      <th>Eric</th>\n",
       "      <td>NaN</td>\n",
       "      <td>-66</td>\n",
       "      <td>54</td>\n",
       "      <td>-17</td>\n",
       "      <td>21</td>\n",
       "      <td>-30</td>\n",
       "      <td>-46</td>\n",
       "      <td>49</td>\n",
       "    </tr>\n",
       "    <tr>\n",
       "      <th>Mallory</th>\n",
       "      <td>-99</td>\n",
       "      <td>NaN</td>\n",
       "      <td>7</td>\n",
       "      <td>-56</td>\n",
       "      <td>-80</td>\n",
       "      <td>-20</td>\n",
       "      <td>10</td>\n",
       "      <td>29</td>\n",
       "    </tr>\n",
       "    <tr>\n",
       "      <th>George</th>\n",
       "      <td>34</td>\n",
       "      <td>-99</td>\n",
       "      <td>NaN</td>\n",
       "      <td>18</td>\n",
       "      <td>-4</td>\n",
       "      <td>75</td>\n",
       "      <td>-35</td>\n",
       "      <td>23</td>\n",
       "    </tr>\n",
       "    <tr>\n",
       "      <th>Frank</th>\n",
       "      <td>95</td>\n",
       "      <td>-75</td>\n",
       "      <td>30</td>\n",
       "      <td>NaN</td>\n",
       "      <td>-81</td>\n",
       "      <td>-12</td>\n",
       "      <td>33</td>\n",
       "      <td>68</td>\n",
       "    </tr>\n",
       "    <tr>\n",
       "      <th>Alice</th>\n",
       "      <td>8</td>\n",
       "      <td>31</td>\n",
       "      <td>45</td>\n",
       "      <td>-97</td>\n",
       "      <td>NaN</td>\n",
       "      <td>43</td>\n",
       "      <td>-54</td>\n",
       "      <td>93</td>\n",
       "    </tr>\n",
       "    <tr>\n",
       "      <th>David</th>\n",
       "      <td>-34</td>\n",
       "      <td>91</td>\n",
       "      <td>54</td>\n",
       "      <td>56</td>\n",
       "      <td>65</td>\n",
       "      <td>NaN</td>\n",
       "      <td>-37</td>\n",
       "      <td>5</td>\n",
       "    </tr>\n",
       "    <tr>\n",
       "      <th>Carol</th>\n",
       "      <td>-69</td>\n",
       "      <td>95</td>\n",
       "      <td>63</td>\n",
       "      <td>-9</td>\n",
       "      <td>-62</td>\n",
       "      <td>-53</td>\n",
       "      <td>NaN</td>\n",
       "      <td>19</td>\n",
       "    </tr>\n",
       "    <tr>\n",
       "      <th>Bob</th>\n",
       "      <td>-89</td>\n",
       "      <td>-32</td>\n",
       "      <td>76</td>\n",
       "      <td>6</td>\n",
       "      <td>-2</td>\n",
       "      <td>-96</td>\n",
       "      <td>-70</td>\n",
       "      <td>NaN</td>\n",
       "    </tr>\n",
       "  </tbody>\n",
       "</table>\n",
       "</div>"
      ],
      "text/plain": [
       "        Eric Mallory George Frank Alice David Carol  Bob\n",
       "Eric     NaN     -66     54   -17    21   -30   -46   49\n",
       "Mallory  -99     NaN      7   -56   -80   -20    10   29\n",
       "George    34     -99    NaN    18    -4    75   -35   23\n",
       "Frank     95     -75     30   NaN   -81   -12    33   68\n",
       "Alice      8      31     45   -97   NaN    43   -54   93\n",
       "David    -34      91     54    56    65   NaN   -37    5\n",
       "Carol    -69      95     63    -9   -62   -53   NaN   19\n",
       "Bob      -89     -32     76     6    -2   -96   -70  NaN"
      ]
     },
     "execution_count": 127,
     "metadata": {},
     "output_type": "execute_result"
    }
   ],
   "source": [
    "df"
   ]
  },
  {
   "cell_type": "code",
   "execution_count": 105,
   "metadata": {},
   "outputs": [
    {
     "data": {
      "text/plain": [
       "('Eric', 'Mallory', 'George', 'Frank', 'Alice', 'David', 'Carol', 'Bob')"
      ]
     },
     "execution_count": 105,
     "metadata": {},
     "output_type": "execute_result"
    }
   ],
   "source": [
    "all_scenarios[0]"
   ]
  },
  {
   "cell_type": "code",
   "execution_count": 116,
   "metadata": {},
   "outputs": [],
   "source": [
    "def cal_happiness(onetuple, one_df):\n",
    "    result = 0\n",
    "    num = len(onetuple)\n",
    "    for i in range(-1, num-1):\n",
    "        result += one_df[onetuple[i]][onetuple[i+1]] + one_df[onetuple[i+1]][onetuple[i]]\n",
    "    return result"
   ]
  },
  {
   "cell_type": "code",
   "execution_count": 114,
   "metadata": {},
   "outputs": [],
   "source": [
    "all_results = []\n",
    "for t in all_scenarios:\n",
    "    r = cal_happiness(t, df)\n",
    "    all_results.append(r)"
   ]
  },
  {
   "cell_type": "code",
   "execution_count": 115,
   "metadata": {},
   "outputs": [
    {
     "name": "stdout",
     "output_type": "stream",
     "text": [
      "664\n"
     ]
    }
   ],
   "source": [
    "max_happiness = max(all_results)\n",
    "print(max_happiness)"
   ]
  },
  {
   "cell_type": "code",
   "execution_count": 3,
   "metadata": {},
   "outputs": [
    {
     "name": "stdout",
     "output_type": "stream",
     "text": [
      "[['Alice', 'Bob', -2], ['Alice', 'Carol', -62], ['Alice', 'David', 65], ['Alice', 'Eric', 21], ['Alice', 'Frank', -81], ['Alice', 'George', -4], ['Alice', 'Mallory', -80], ['Bob', 'Alice', 93], ['Bob', 'Carol', 19], ['Bob', 'David', 5], ['Bob', 'Eric', 49], ['Bob', 'Frank', 68], ['Bob', 'George', 23], ['Bob', 'Mallory', 29], ['Carol', 'Alice', -54], ['Carol', 'Bob', -70], ['Carol', 'David', -37], ['Carol', 'Eric', -46], ['Carol', 'Frank', 33], ['Carol', 'George', -35], ['Carol', 'Mallory', 10], ['David', 'Alice', 43], ['David', 'Bob', -96], ['David', 'Carol', -53], ['David', 'Eric', -30], ['David', 'Frank', -12], ['David', 'George', 75], ['David', 'Mallory', -20], ['Eric', 'Alice', 8], ['Eric', 'Bob', -89], ['Eric', 'Carol', -69], ['Eric', 'David', -34], ['Eric', 'Frank', 95], ['Eric', 'George', 34], ['Eric', 'Mallory', -99], ['Frank', 'Alice', -97], ['Frank', 'Bob', 6], ['Frank', 'Carol', -9], ['Frank', 'David', 56], ['Frank', 'Eric', -17], ['Frank', 'George', 18], ['Frank', 'Mallory', -56], ['George', 'Alice', 45], ['George', 'Bob', 76], ['George', 'Carol', 63], ['George', 'David', 54], ['George', 'Eric', 54], ['George', 'Frank', 30], ['George', 'Mallory', 7], ['Mallory', 'Alice', 31], ['Mallory', 'Bob', -32], ['Mallory', 'Carol', 95], ['Mallory', 'David', 91], ['Mallory', 'Eric', -66], ['Mallory', 'Frank', -75], ['Mallory', 'George', -99]] ['David', 'Eric', 'George', 'Frank', 'Bob', 'Mallory', 'Carol', 'Alice']\n",
      "[['Alice', 'Bob', -2], ['Alice', 'Carol', -62], ['Alice', 'David', 65], ['Alice', 'Eric', 21], ['Alice', 'Frank', -81], ['Alice', 'George', -4], ['Alice', 'Mallory', -80], ['Bob', 'Alice', 93], ['Bob', 'Carol', 19], ['Bob', 'David', 5], ['Bob', 'Eric', 49], ['Bob', 'Frank', 68], ['Bob', 'George', 23], ['Bob', 'Mallory', 29], ['Carol', 'Alice', -54], ['Carol', 'Bob', -70], ['Carol', 'David', -37], ['Carol', 'Eric', -46], ['Carol', 'Frank', 33], ['Carol', 'George', -35], ['Carol', 'Mallory', 10], ['David', 'Alice', 43], ['David', 'Bob', -96], ['David', 'Carol', -53], ['David', 'Eric', -30], ['David', 'Frank', -12], ['David', 'George', 75], ['David', 'Mallory', -20], ['Eric', 'Alice', 8], ['Eric', 'Bob', -89], ['Eric', 'Carol', -69], ['Eric', 'David', -34], ['Eric', 'Frank', 95], ['Eric', 'George', 34], ['Eric', 'Mallory', -99], ['Frank', 'Alice', -97], ['Frank', 'Bob', 6], ['Frank', 'Carol', -9], ['Frank', 'David', 56], ['Frank', 'Eric', -17], ['Frank', 'George', 18], ['Frank', 'Mallory', -56], ['George', 'Alice', 45], ['George', 'Bob', 76], ['George', 'Carol', 63], ['George', 'David', 54], ['George', 'Eric', 54], ['George', 'Frank', 30], ['George', 'Mallory', 7], ['Mallory', 'Alice', 31], ['Mallory', 'Bob', -32], ['Mallory', 'Carol', 95], ['Mallory', 'David', 91], ['Mallory', 'Eric', -66], ['Mallory', 'Frank', -75], ['Mallory', 'George', -99]] ['David', 'Eric', 'George', 'Frank', 'Bob', 'Mallory', 'Carol', 'Alice']\n",
      "('David', 'Eric', 'George', 'Frank', 'Bob', 'Mallory', 'Carol', 'Alice')\n",
      "overall permutation number: 40320\n",
      "overall result number:  40320\n",
      "highest point is:  664\n",
      "0:00:01.397262\n"
     ]
    }
   ],
   "source": [
    "# Travelling Salesperson Problems, only can solve to a small sets, otherwise too big to iterate\n",
    "\n",
    "import itertools\n",
    "from datetime import datetime\n",
    "\n",
    "def getNeighbourHappiness():\n",
    "    HappinessPoints = []\n",
    "    Names = []\n",
    "    with open('2015-Q13_tyler.txt') as f:\n",
    "        mylist = f.read().splitlines() \n",
    "    f.close()\n",
    "    for line in mylist:\n",
    "        linelist = line.rstrip(\".\").split()\n",
    "        HappinessPoints.append([linelist[0], linelist[-1], int(linelist[3])]) if linelist[2]==\"gain\" else HappinessPoints.append([linelist[0], linelist[-1], int(linelist[3])*-1])\n",
    "        Names.append(linelist[0])\n",
    "        NameList = list(set(Names))\n",
    "    print(HappinessPoints, NameList)\n",
    "    return HappinessPoints, NameList\n",
    "    \n",
    "getNeighbourHappiness()\n",
    "\n",
    "# calculate each sitting happiness \n",
    "def calculatePoints(sitting, HappinessPoints):\n",
    "    points = 0\n",
    "    for i in range(len(sitting)-1):\n",
    "        for HP in HappinessPoints:\n",
    "            if sitting[i] in HP and sitting[i+1] in HP:\n",
    "                points += HP[2]\n",
    "    return points\n",
    "\n",
    "results =[]\n",
    "def main():\n",
    "    HappinessPoints, NameList = getNeighbourHappiness()\n",
    "\n",
    "    # create all name list permutations to use to iterate\n",
    "    allPermutations = list(itertools.permutations(NameList))\n",
    "    print(allPermutations[0])\n",
    "    print(\"overall permutation number:\", len(allPermutations))\n",
    "\n",
    "    # calculate points and push to results list\n",
    "    for sitting in allPermutations:\n",
    "        sittingAround = list(sitting)\n",
    "        sittingAround.append(sitting[0])\n",
    "        results.append(calculatePoints(sittingAround, HappinessPoints))\n",
    "    print(\"overall result number: \", len(results))\n",
    "\n",
    "    # get the max value \n",
    "    print(\"highest point is: \", max(results))\n",
    "t1 = datetime.now()\n",
    "main()\n",
    "t2 = datetime.now()\n",
    "print(t2-t1)"
   ]
  },
  {
   "cell_type": "markdown",
   "metadata": {},
   "source": [
    "# Answer 14"
   ]
  },
  {
   "cell_type": "code",
   "execution_count": 36,
   "metadata": {},
   "outputs": [
    {
     "data": {
      "text/plain": [
       "3"
      ]
     },
     "execution_count": 36,
     "metadata": {},
     "output_type": "execute_result"
    }
   ],
   "source": [
    "#[1]Input \n",
    "dic = {'a':1, 'b':2, 'c': 3}\n",
    "max(dic.values())"
   ]
  },
  {
   "cell_type": "code",
   "execution_count": 31,
   "metadata": {},
   "outputs": [],
   "source": [
    "dic1 = dic.copy()"
   ]
  },
  {
   "cell_type": "code",
   "execution_count": 32,
   "metadata": {},
   "outputs": [],
   "source": [
    "del dic1['a']"
   ]
  },
  {
   "cell_type": "code",
   "execution_count": 33,
   "metadata": {},
   "outputs": [
    {
     "data": {
      "text/plain": [
       "{'b': 2, 'c': 2}"
      ]
     },
     "execution_count": 33,
     "metadata": {},
     "output_type": "execute_result"
    }
   ],
   "source": [
    "dic1"
   ]
  },
  {
   "cell_type": "code",
   "execution_count": 34,
   "metadata": {},
   "outputs": [
    {
     "data": {
      "text/plain": [
       "{'a': 1, 'b': 2, 'c': 2}"
      ]
     },
     "execution_count": 34,
     "metadata": {},
     "output_type": "execute_result"
    }
   ],
   "source": [
    "dic"
   ]
  },
  {
   "cell_type": "code",
   "execution_count": 35,
   "metadata": {},
   "outputs": [
    {
     "data": {
      "text/plain": [
       "{'a': 2, 'b': 2, 'c': 2}"
      ]
     },
     "execution_count": 35,
     "metadata": {},
     "output_type": "execute_result"
    }
   ],
   "source": [
    "dic['a'] += 1\n",
    "dic"
   ]
  },
  {
   "cell_type": "code",
   "execution_count": null,
   "metadata": {},
   "outputs": [],
   "source": []
  }
 ],
 "metadata": {
  "kernelspec": {
   "display_name": "Python 3",
   "language": "python",
   "name": "python3"
  },
  "language_info": {
   "codemirror_mode": {
    "name": "ipython",
    "version": 3
   },
   "file_extension": ".py",
   "mimetype": "text/x-python",
   "name": "python",
   "nbconvert_exporter": "python",
   "pygments_lexer": "ipython3",
   "version": "3.6.9"
  }
 },
 "nbformat": 4,
 "nbformat_minor": 2
}
