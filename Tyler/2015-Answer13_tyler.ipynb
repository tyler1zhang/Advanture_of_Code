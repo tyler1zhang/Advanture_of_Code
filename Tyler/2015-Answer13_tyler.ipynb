{
 "cells": [
  {
   "cell_type": "code",
   "execution_count": 123,
   "metadata": {},
   "outputs": [],
   "source": [
    "# Output one list of [name1, num, name2], and one names list to store all names. \n",
    "with open('2015-Q13_tyler.txt') as f:\n",
    "    data_lst = []\n",
    "    names_lst = []\n",
    "    for line in f.readlines():\n",
    "        line_lst = line.split()\n",
    "        if line_lst[2] == 'gain':\n",
    "            data_lst.append([line_lst[0], int(line_lst[3]), line_lst[-1][:-1]])\n",
    "        else:\n",
    "            data_lst.append([line_lst[0], -int(line_lst[3]), line_lst[-1][:-1]])\n",
    "        names_lst.append(line_lst[0])\n",
    "    names_set = set(names_lst)\n",
    "f.close()"
   ]
  },
  {
   "cell_type": "code",
   "execution_count": 124,
   "metadata": {},
   "outputs": [
    {
     "data": {
      "text/plain": [
       "{'Alice', 'Bob', 'Carol', 'David', 'Eric', 'Frank', 'George', 'Mallory'}"
      ]
     },
     "execution_count": 124,
     "metadata": {},
     "output_type": "execute_result"
    }
   ],
   "source": [
    "names_set"
   ]
  },
  {
   "cell_type": "code",
   "execution_count": 10,
   "metadata": {},
   "outputs": [],
   "source": [
    "import itertools\n",
    "\n",
    "# List all permutation of names\n",
    "#p = [list(i) for i in list(itertools.permutations(names_lst))]\n",
    "p = list(itertools.permutations(names_lst))"
   ]
  },
  {
   "cell_type": "code",
   "execution_count": 32,
   "metadata": {},
   "outputs": [],
   "source": [
    "# Use tuple\n",
    "def start_cycle_tuple(t):\n",
    "    lst = list(t)\n",
    "    l1 = lst[1:]\n",
    "    l1.append(lst[0])\n",
    "    t1 = tuple(l1)\n",
    "    return t1"
   ]
  },
  {
   "cell_type": "code",
   "execution_count": 87,
   "metadata": {},
   "outputs": [],
   "source": [
    "def clean_sequence(permutations_list):\n",
    "    # Due to cycle table, every squence will be repeated by 2*len(s) times. ex: \"abc\" is same as \"bca\", \"cab\" and 3 reverse sequence. \n",
    "    all_scenarios_list = []\n",
    "    sequence_tuple_set = {''}\n",
    "    for line_tuple in permutations_list:\n",
    "        if line_tuple not in sequence_tuple_set:\n",
    "            all_scenarios_list.append(line_tuple)\n",
    "        temp_lst = list(line_tuple)\n",
    "        temp_lst.reverse()\n",
    "        temp_tuple = tuple(temp_lst)\n",
    "        temp_tuple_r = line_tuple\n",
    "        for i in range(len(line_tuple)):\n",
    "            sequence_tuple_set.add(temp_tuple_r)\n",
    "            sequence_tuple_set.add(temp_tuple)\n",
    "            temp_tuple_r = start_cycle_tuple(temp_tuple_r)\n",
    "            temp_tuple = start_cycle_tuple(temp_tuple)\n",
    "            \n",
    "    return all_scenarios_list"
   ]
  },
  {
   "cell_type": "code",
   "execution_count": 88,
   "metadata": {},
   "outputs": [],
   "source": [
    "# All scenarios for cycle table. \n",
    "all_scenarios = clean_sequence(p)"
   ]
  },
  {
   "cell_type": "code",
   "execution_count": 90,
   "metadata": {},
   "outputs": [
    {
     "data": {
      "text/plain": [
       "('Eric', 'Mallory', 'George', 'Frank', 'Alice', 'David', 'Carol', 'Bob')"
      ]
     },
     "execution_count": 90,
     "metadata": {},
     "output_type": "execute_result"
    }
   ],
   "source": [
    "all_scenarios[0]"
   ]
  },
  {
   "cell_type": "code",
   "execution_count": 103,
   "metadata": {},
   "outputs": [],
   "source": [
    "import pandas as pd\n",
    "\n",
    "df = pd.DataFrame(index = names_lst, columns = names_lst)\n",
    "for line in data_lst:\n",
    "    df[line[0]][line[2]] = line[1]"
   ]
  },
  {
   "cell_type": "code",
   "execution_count": 127,
   "metadata": {},
   "outputs": [
    {
     "data": {
      "text/html": [
       "<div>\n",
       "<style scoped>\n",
       "    .dataframe tbody tr th:only-of-type {\n",
       "        vertical-align: middle;\n",
       "    }\n",
       "\n",
       "    .dataframe tbody tr th {\n",
       "        vertical-align: top;\n",
       "    }\n",
       "\n",
       "    .dataframe thead th {\n",
       "        text-align: right;\n",
       "    }\n",
       "</style>\n",
       "<table border=\"1\" class=\"dataframe\">\n",
       "  <thead>\n",
       "    <tr style=\"text-align: right;\">\n",
       "      <th></th>\n",
       "      <th>Eric</th>\n",
       "      <th>Mallory</th>\n",
       "      <th>George</th>\n",
       "      <th>Frank</th>\n",
       "      <th>Alice</th>\n",
       "      <th>David</th>\n",
       "      <th>Carol</th>\n",
       "      <th>Bob</th>\n",
       "    </tr>\n",
       "  </thead>\n",
       "  <tbody>\n",
       "    <tr>\n",
       "      <th>Eric</th>\n",
       "      <td>NaN</td>\n",
       "      <td>-66</td>\n",
       "      <td>54</td>\n",
       "      <td>-17</td>\n",
       "      <td>21</td>\n",
       "      <td>-30</td>\n",
       "      <td>-46</td>\n",
       "      <td>49</td>\n",
       "    </tr>\n",
       "    <tr>\n",
       "      <th>Mallory</th>\n",
       "      <td>-99</td>\n",
       "      <td>NaN</td>\n",
       "      <td>7</td>\n",
       "      <td>-56</td>\n",
       "      <td>-80</td>\n",
       "      <td>-20</td>\n",
       "      <td>10</td>\n",
       "      <td>29</td>\n",
       "    </tr>\n",
       "    <tr>\n",
       "      <th>George</th>\n",
       "      <td>34</td>\n",
       "      <td>-99</td>\n",
       "      <td>NaN</td>\n",
       "      <td>18</td>\n",
       "      <td>-4</td>\n",
       "      <td>75</td>\n",
       "      <td>-35</td>\n",
       "      <td>23</td>\n",
       "    </tr>\n",
       "    <tr>\n",
       "      <th>Frank</th>\n",
       "      <td>95</td>\n",
       "      <td>-75</td>\n",
       "      <td>30</td>\n",
       "      <td>NaN</td>\n",
       "      <td>-81</td>\n",
       "      <td>-12</td>\n",
       "      <td>33</td>\n",
       "      <td>68</td>\n",
       "    </tr>\n",
       "    <tr>\n",
       "      <th>Alice</th>\n",
       "      <td>8</td>\n",
       "      <td>31</td>\n",
       "      <td>45</td>\n",
       "      <td>-97</td>\n",
       "      <td>NaN</td>\n",
       "      <td>43</td>\n",
       "      <td>-54</td>\n",
       "      <td>93</td>\n",
       "    </tr>\n",
       "    <tr>\n",
       "      <th>David</th>\n",
       "      <td>-34</td>\n",
       "      <td>91</td>\n",
       "      <td>54</td>\n",
       "      <td>56</td>\n",
       "      <td>65</td>\n",
       "      <td>NaN</td>\n",
       "      <td>-37</td>\n",
       "      <td>5</td>\n",
       "    </tr>\n",
       "    <tr>\n",
       "      <th>Carol</th>\n",
       "      <td>-69</td>\n",
       "      <td>95</td>\n",
       "      <td>63</td>\n",
       "      <td>-9</td>\n",
       "      <td>-62</td>\n",
       "      <td>-53</td>\n",
       "      <td>NaN</td>\n",
       "      <td>19</td>\n",
       "    </tr>\n",
       "    <tr>\n",
       "      <th>Bob</th>\n",
       "      <td>-89</td>\n",
       "      <td>-32</td>\n",
       "      <td>76</td>\n",
       "      <td>6</td>\n",
       "      <td>-2</td>\n",
       "      <td>-96</td>\n",
       "      <td>-70</td>\n",
       "      <td>NaN</td>\n",
       "    </tr>\n",
       "  </tbody>\n",
       "</table>\n",
       "</div>"
      ],
      "text/plain": [
       "        Eric Mallory George Frank Alice David Carol  Bob\n",
       "Eric     NaN     -66     54   -17    21   -30   -46   49\n",
       "Mallory  -99     NaN      7   -56   -80   -20    10   29\n",
       "George    34     -99    NaN    18    -4    75   -35   23\n",
       "Frank     95     -75     30   NaN   -81   -12    33   68\n",
       "Alice      8      31     45   -97   NaN    43   -54   93\n",
       "David    -34      91     54    56    65   NaN   -37    5\n",
       "Carol    -69      95     63    -9   -62   -53   NaN   19\n",
       "Bob      -89     -32     76     6    -2   -96   -70  NaN"
      ]
     },
     "execution_count": 127,
     "metadata": {},
     "output_type": "execute_result"
    }
   ],
   "source": [
    "df"
   ]
  },
  {
   "cell_type": "code",
   "execution_count": 105,
   "metadata": {},
   "outputs": [
    {
     "data": {
      "text/plain": [
       "('Eric', 'Mallory', 'George', 'Frank', 'Alice', 'David', 'Carol', 'Bob')"
      ]
     },
     "execution_count": 105,
     "metadata": {},
     "output_type": "execute_result"
    }
   ],
   "source": [
    "all_scenarios[0]"
   ]
  },
  {
   "cell_type": "code",
   "execution_count": 116,
   "metadata": {},
   "outputs": [],
   "source": [
    "def cal_happiness(onetuple, one_df):\n",
    "    result = 0\n",
    "    num = len(onetuple)\n",
    "    for i in range(-1, num-1):\n",
    "        result += one_df[onetuple[i]][onetuple[i+1]] + one_df[onetuple[i+1]][onetuple[i]]\n",
    "    return result"
   ]
  },
  {
   "cell_type": "code",
   "execution_count": 114,
   "metadata": {},
   "outputs": [],
   "source": [
    "all_results = []\n",
    "for t in all_scenarios:\n",
    "    r = cal_happiness(t, df)\n",
    "    all_results.append(r)"
   ]
  },
  {
   "cell_type": "code",
   "execution_count": 115,
   "metadata": {},
   "outputs": [
    {
     "name": "stdout",
     "output_type": "stream",
     "text": [
      "664\n"
     ]
    }
   ],
   "source": [
    "max_happiness = max(all_results)\n",
    "print(max_happiness)"
   ]
  },
  {
   "cell_type": "code",
   "execution_count": null,
   "metadata": {},
   "outputs": [],
   "source": [
    "all_results"
   ]
  },
  {
   "cell_type": "code",
   "execution_count": null,
   "metadata": {},
   "outputs": [],
   "source": []
  }
 ],
 "metadata": {
  "kernelspec": {
   "display_name": "Python 3",
   "language": "python",
   "name": "python3"
  },
  "language_info": {
   "codemirror_mode": {
    "name": "ipython",
    "version": 3
   },
   "file_extension": ".py",
   "mimetype": "text/x-python",
   "name": "python",
   "nbconvert_exporter": "python",
   "pygments_lexer": "ipython3",
   "version": "3.6.9"
  }
 },
 "nbformat": 4,
 "nbformat_minor": 2
}
