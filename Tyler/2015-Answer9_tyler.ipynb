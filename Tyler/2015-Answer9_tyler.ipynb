{
 "cells": [
  {
   "cell_type": "markdown",
   "metadata": {},
   "source": [
    "## Part 1\n",
    "\n",
    "### 1. generate DF of distance and location name list"
   ]
  },
  {
   "cell_type": "code",
   "execution_count": 98,
   "metadata": {},
   "outputs": [],
   "source": [
    "f = open('2015-Q9_tyler.txt', 'r')\n",
    "lst = f.readlines()\n",
    "f.close()"
   ]
  },
  {
   "cell_type": "code",
   "execution_count": 99,
   "metadata": {},
   "outputs": [],
   "source": [
    "new_lst = []\n",
    "for line in lst:\n",
    "    s_line = line.split()\n",
    "    new_lst.append([s_line[0], s_line[2], s_line[4]])"
   ]
  },
  {
   "cell_type": "code",
   "execution_count": 100,
   "metadata": {},
   "outputs": [],
   "source": [
    "locat = []\n",
    "for line in new_lst:\n",
    "    locat.append(line[0])\n",
    "    locat.append(line[1])\n",
    "\n",
    "all_loc = set(locat)"
   ]
  },
  {
   "cell_type": "code",
   "execution_count": null,
   "metadata": {},
   "outputs": [],
   "source": [
    "new_lst"
   ]
  },
  {
   "cell_type": "code",
   "execution_count": 102,
   "metadata": {},
   "outputs": [],
   "source": [
    "import pandas as pd"
   ]
  },
  {
   "cell_type": "code",
   "execution_count": 103,
   "metadata": {},
   "outputs": [],
   "source": [
    "df = pd.DataFrame(index = all_loc, columns = all_loc)\n",
    "df = df.fillna(0)"
   ]
  },
  {
   "cell_type": "code",
   "execution_count": 104,
   "metadata": {},
   "outputs": [],
   "source": [
    "for line in new_lst:\n",
    "    df[line[0]][line[1]] = line[2]\n",
    "    df[line[1]][line[0]] = line[2]"
   ]
  },
  {
   "cell_type": "code",
   "execution_count": 105,
   "metadata": {},
   "outputs": [
    {
     "data": {
      "text/html": [
       "<div>\n",
       "<style scoped>\n",
       "    .dataframe tbody tr th:only-of-type {\n",
       "        vertical-align: middle;\n",
       "    }\n",
       "\n",
       "    .dataframe tbody tr th {\n",
       "        vertical-align: top;\n",
       "    }\n",
       "\n",
       "    .dataframe thead th {\n",
       "        text-align: right;\n",
       "    }\n",
       "</style>\n",
       "<table border=\"1\" class=\"dataframe\">\n",
       "  <thead>\n",
       "    <tr style=\"text-align: right;\">\n",
       "      <th></th>\n",
       "      <th>Arbre</th>\n",
       "      <th>Tambi</th>\n",
       "      <th>Snowdin</th>\n",
       "      <th>Tristram</th>\n",
       "      <th>Straylight</th>\n",
       "      <th>Faerun</th>\n",
       "      <th>AlphaCentauri</th>\n",
       "      <th>Norrath</th>\n",
       "    </tr>\n",
       "  </thead>\n",
       "  <tbody>\n",
       "    <tr>\n",
       "      <th>Arbre</th>\n",
       "      <td>0</td>\n",
       "      <td>143</td>\n",
       "      <td>96</td>\n",
       "      <td>14</td>\n",
       "      <td>14</td>\n",
       "      <td>149</td>\n",
       "      <td>46</td>\n",
       "      <td>115</td>\n",
       "    </tr>\n",
       "    <tr>\n",
       "      <th>Tambi</th>\n",
       "      <td>143</td>\n",
       "      <td>0</td>\n",
       "      <td>52</td>\n",
       "      <td>63</td>\n",
       "      <td>65</td>\n",
       "      <td>129</td>\n",
       "      <td>22</td>\n",
       "      <td>68</td>\n",
       "    </tr>\n",
       "    <tr>\n",
       "      <th>Snowdin</th>\n",
       "      <td>96</td>\n",
       "      <td>52</td>\n",
       "      <td>0</td>\n",
       "      <td>105</td>\n",
       "      <td>101</td>\n",
       "      <td>71</td>\n",
       "      <td>84</td>\n",
       "      <td>8</td>\n",
       "    </tr>\n",
       "    <tr>\n",
       "      <th>Tristram</th>\n",
       "      <td>14</td>\n",
       "      <td>63</td>\n",
       "      <td>105</td>\n",
       "      <td>0</td>\n",
       "      <td>125</td>\n",
       "      <td>65</td>\n",
       "      <td>55</td>\n",
       "      <td>4</td>\n",
       "    </tr>\n",
       "    <tr>\n",
       "      <th>Straylight</th>\n",
       "      <td>14</td>\n",
       "      <td>65</td>\n",
       "      <td>101</td>\n",
       "      <td>125</td>\n",
       "      <td>0</td>\n",
       "      <td>137</td>\n",
       "      <td>107</td>\n",
       "      <td>23</td>\n",
       "    </tr>\n",
       "    <tr>\n",
       "      <th>Faerun</th>\n",
       "      <td>149</td>\n",
       "      <td>129</td>\n",
       "      <td>71</td>\n",
       "      <td>65</td>\n",
       "      <td>137</td>\n",
       "      <td>0</td>\n",
       "      <td>3</td>\n",
       "      <td>144</td>\n",
       "    </tr>\n",
       "    <tr>\n",
       "      <th>AlphaCentauri</th>\n",
       "      <td>46</td>\n",
       "      <td>22</td>\n",
       "      <td>84</td>\n",
       "      <td>55</td>\n",
       "      <td>107</td>\n",
       "      <td>3</td>\n",
       "      <td>0</td>\n",
       "      <td>136</td>\n",
       "    </tr>\n",
       "    <tr>\n",
       "      <th>Norrath</th>\n",
       "      <td>115</td>\n",
       "      <td>68</td>\n",
       "      <td>8</td>\n",
       "      <td>4</td>\n",
       "      <td>23</td>\n",
       "      <td>144</td>\n",
       "      <td>136</td>\n",
       "      <td>0</td>\n",
       "    </tr>\n",
       "  </tbody>\n",
       "</table>\n",
       "</div>"
      ],
      "text/plain": [
       "               Arbre  Tambi  Snowdin  Tristram  Straylight  Faerun  \\\n",
       "Arbre              0    143       96        14          14     149   \n",
       "Tambi            143      0       52        63          65     129   \n",
       "Snowdin           96     52        0       105         101      71   \n",
       "Tristram          14     63      105         0         125      65   \n",
       "Straylight        14     65      101       125           0     137   \n",
       "Faerun           149    129       71        65         137       0   \n",
       "AlphaCentauri     46     22       84        55         107       3   \n",
       "Norrath          115     68        8         4          23     144   \n",
       "\n",
       "               AlphaCentauri  Norrath  \n",
       "Arbre                     46      115  \n",
       "Tambi                     22       68  \n",
       "Snowdin                   84        8  \n",
       "Tristram                  55        4  \n",
       "Straylight               107       23  \n",
       "Faerun                     3      144  \n",
       "AlphaCentauri              0      136  \n",
       "Norrath                  136        0  "
      ]
     },
     "execution_count": 105,
     "metadata": {},
     "output_type": "execute_result"
    }
   ],
   "source": [
    "df"
   ]
  },
  {
   "cell_type": "code",
   "execution_count": 106,
   "metadata": {},
   "outputs": [
    {
     "data": {
      "text/plain": [
       "set"
      ]
     },
     "execution_count": 106,
     "metadata": {},
     "output_type": "execute_result"
    }
   ],
   "source": [
    "type(all_loc)"
   ]
  },
  {
   "cell_type": "markdown",
   "metadata": {},
   "source": [
    "### 2. generate routes based on location list"
   ]
  },
  {
   "cell_type": "code",
   "execution_count": 107,
   "metadata": {},
   "outputs": [
    {
     "data": {
      "text/plain": [
       "['Arbre',\n",
       " 'Tambi',\n",
       " 'Snowdin',\n",
       " 'Tristram',\n",
       " 'Straylight',\n",
       " 'Faerun',\n",
       " 'AlphaCentauri',\n",
       " 'Norrath']"
      ]
     },
     "execution_count": 107,
     "metadata": {},
     "output_type": "execute_result"
    }
   ],
   "source": [
    "locs = list(all_loc)\n",
    "locs"
   ]
  },
  {
   "cell_type": "code",
   "execution_count": 108,
   "metadata": {},
   "outputs": [],
   "source": [
    "def permutation(lst_remain):\n",
    "    if len(lst_remain)< 3:\n",
    "        _a = lst_remain[0]\n",
    "        _b = lst_remain[1]\n",
    "        _list1 = [[_a, _b], [_b, _a]]\n",
    "        return _list1\n",
    "    else:\n",
    "        _list1 = []\n",
    "        for i in lst_remain:\n",
    "            temp_lst = lst_remain[:]\n",
    "            temp_lst.remove(i)\n",
    "            _list2 = permutation(temp_lst)\n",
    "            for j in _list2:\n",
    "                _lst = [i] + j\n",
    "                _list1.append(_lst)\n",
    "        return _list1"
   ]
  },
  {
   "cell_type": "code",
   "execution_count": 109,
   "metadata": {},
   "outputs": [
    {
     "data": {
      "text/plain": [
       "40320"
      ]
     },
     "execution_count": 109,
     "metadata": {},
     "output_type": "execute_result"
    }
   ],
   "source": [
    "routes = permutation(locs)\n",
    "len(routes)"
   ]
  },
  {
   "cell_type": "code",
   "execution_count": 111,
   "metadata": {},
   "outputs": [],
   "source": [
    "all_dis = []\n",
    "all_routes = []\n",
    "for r in routes:\n",
    "    dis = 0\n",
    "    for i in range(len(r)-1):\n",
    "        dis += df[r[i]][r[i+1]]\n",
    "    all_routes.append([r, dis])\n",
    "    all_dis.append(dis)"
   ]
  },
  {
   "cell_type": "code",
   "execution_count": 114,
   "metadata": {},
   "outputs": [
    {
     "data": {
      "text/plain": [
       "117"
      ]
     },
     "execution_count": 114,
     "metadata": {},
     "output_type": "execute_result"
    }
   ],
   "source": [
    "min(all_dis)"
   ]
  },
  {
   "cell_type": "code",
   "execution_count": 116,
   "metadata": {},
   "outputs": [
    {
     "data": {
      "text/plain": [
       "909"
      ]
     },
     "execution_count": 116,
     "metadata": {},
     "output_type": "execute_result"
    }
   ],
   "source": [
    "max(all_dis)"
   ]
  }
 ],
 "metadata": {
  "kernelspec": {
   "display_name": "Python 3",
   "language": "python",
   "name": "python3"
  },
  "language_info": {
   "codemirror_mode": {
    "name": "ipython",
    "version": 3
   },
   "file_extension": ".py",
   "mimetype": "text/x-python",
   "name": "python",
   "nbconvert_exporter": "python",
   "pygments_lexer": "ipython3",
   "version": "3.6.9"
  }
 },
 "nbformat": 4,
 "nbformat_minor": 2
}
